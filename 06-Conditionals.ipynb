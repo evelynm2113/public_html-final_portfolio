{
  "cells": [
    {
      "cell_type": "markdown",
      "metadata": {
        "editable": true,
        "tags": [],
        "id": "z7oL5QpWJ5c8"
      },
      "source": [
        "# Conditionals\n",
        "\n",
        "[![Open In Colab](https://colab.research.google.com/assets/colab-badge.svg)](https://colab.research.google.com/github/COGS18/LectureNotes-COGS18/blob/main/06-Conditionals.ipynb)"
      ]
    },
    {
      "cell_type": "markdown",
      "metadata": {
        "editable": true,
        "tags": [],
        "id": "ml0y_Z1eJ5c-"
      },
      "source": [
        "**Q&A**\n",
        "\n",
        "> Q: Would both the codes from Form A and Form B be considered functions? (this is referencing hte code/activity from last class)  \n",
        "> A: Yes\n",
        "\n",
        "> Q: How would a oral exam essentially be structured?\n",
        "> A: Staff will have two questions each week for each student - the first question students will be asked to walk through code and explain what it's accomplishing. The second question will ask a broad question about the previous week's material. For example, this week, questions focus on functions. Next week, questions will focus on conditionals. Students have 5 min to answer both.\n",
        "\n",
        "> Q: Have you considered posting video quizzes further in advance?  \n",
        "> A: Yes. And apologies VQ5 was late. For the rest of the quarter, the following week's video quizzes will be posted on the previous Friday."
      ]
    },
    {
      "cell_type": "markdown",
      "metadata": {
        "editable": true,
        "tags": [],
        "id": "UUvG2LVbJ5c-"
      },
      "source": [
        "**Course Announcements**\n",
        "\n",
        "Due this week:\n",
        "- CL2 due Fri\n",
        "- A1 due Sun\n",
        "\n",
        "Heads up:\n",
        "- Posted this Fri (tomorrow): VQ6, CL3, A2\n",
        "    - VQ6 due Tues will be longer watching/reading than typical....but there won't be any reading/VQ for Thursday so overall weekly workload similar\n",
        "- Oral exam notes:\n",
        "    - Please try to be on time if you're not in the lab when you scheduled your oral exam\n",
        "    - If you delete your oral exam Gcal invite, it deletes your scheduled time"
      ]
    },
    {
      "cell_type": "markdown",
      "metadata": {
        "editable": true,
        "tags": [],
        "id": "zxdKaK7MJ5c-"
      },
      "source": [
        "## Conditionals\n",
        "\n",
        "- `if`\n",
        "- `elif`\n",
        "- `else`"
      ]
    },
    {
      "cell_type": "markdown",
      "metadata": {
        "id": "qpl5qKIBJ5c_"
      },
      "source": [
        "<div class=\"alert alert-success\">\n",
        "Conditionals are statements that check for a condition, using the <code>if</code> statement, and then only execute a set of code if the condition evaluates as <code>True</code>.\n",
        "</div>"
      ]
    },
    {
      "cell_type": "code",
      "execution_count": null,
      "metadata": {
        "id": "T3ynBAMrJ5c_"
      },
      "outputs": [],
      "source": [
        "value = 5\n",
        "\n",
        "if value == True:\n",
        "    print('if statement executed')\n",
        "elif value == False:\n",
        "    print('elif statement executed')\n",
        "else:\n",
        "    print('else statement executed')"
      ]
    },
    {
      "cell_type": "markdown",
      "metadata": {
        "id": "wcQs_EAaJ5dA"
      },
      "source": [
        "## Conditionals"
      ]
    },
    {
      "cell_type": "markdown",
      "metadata": {
        "id": "RDcFZt7gJ5dA"
      },
      "source": [
        "<div class=\"alert alert-success\">\n",
        "Any expression that can be evaluated as a boolean, such as value comparisons, can be used with conditionals.\n",
        "</div>"
      ]
    },
    {
      "cell_type": "code",
      "execution_count": null,
      "metadata": {
        "id": "isdmw15oJ5dA"
      },
      "outputs": [],
      "source": [
        "speed_limit = 65\n",
        "speed = 75\n",
        "\n",
        "if speed > speed_limit:\n",
        "    ticket = True\n",
        "elif speed == speed_limit:\n",
        "    ticket = 'warning'\n",
        "else:\n",
        "    ticket = False\n",
        "\n",
        "print(ticket)"
      ]
    },
    {
      "cell_type": "markdown",
      "metadata": {
        "collapsed": true,
        "jupyter": {
          "outputs_hidden": true
        },
        "id": "N9KXfwaQJ5dA"
      },
      "source": [
        "## Properties of conditionals\n",
        "\n",
        "- All conditionals start with an `if`, can have an optional and variable number of `elif`'s and an optional `else` statement\n",
        "- Conditionals can take any expression that can be evaluated as `True` or `False`.\n",
        "- At most one component (`if` / `elif` / `else`) of a conditional will run\n",
        "- The order of conditional blocks is always `if` then `elif`(s) then `else`\n",
        "- Code following `if`/`elif` is only ever executed if the condition is met"
      ]
    },
    {
      "cell_type": "markdown",
      "metadata": {
        "id": "ieERpPGzJ5dA"
      },
      "source": [
        "## Activity: Conditionals I\n",
        "\n",
        "Complete the question in this Google Form ([https://forms.gle/DmwaJCNXiVbz9j5K9](https://forms.gle/DmwaJCNXiVbz9j5K9)) and then click submit."
      ]
    },
    {
      "cell_type": "code",
      "execution_count": null,
      "metadata": {
        "id": "KnMeKj1zJ5dB"
      },
      "outputs": [],
      "source": [
        "# TEST CODE OUT HERE"
      ]
    },
    {
      "cell_type": "markdown",
      "metadata": {
        "id": "ithfKhGZJ5dB"
      },
      "source": [
        "## Functions + Conditionals\n",
        "\n",
        "Let's define a more interesting function than what we did in the functions lecture. Here we are using conditionals within our function."
      ]
    },
    {
      "cell_type": "code",
      "execution_count": null,
      "metadata": {
        "editable": true,
        "tags": [],
        "id": "MyhUqEpyJ5dB"
      },
      "outputs": [],
      "source": [
        "# Determine if a value is even or odd\n",
        "def even_odd(value):\n",
        "\n",
        "    if value % 2 == 0:\n",
        "        out = \"even\"\n",
        "    else:\n",
        "        out = \"odd\"\n",
        "\n",
        "    return out"
      ]
    },
    {
      "cell_type": "markdown",
      "metadata": {
        "id": "hOMvo_r3J5dB"
      },
      "source": [
        "## Code Style: Conditionals\n",
        "\n",
        "- avoid single line statements\n",
        "- a single conditional (if + elif + else) has no additional line spaces between statements"
      ]
    },
    {
      "cell_type": "markdown",
      "metadata": {
        "id": "jz0tB3ooJ5dB"
      },
      "source": [
        "### Conditionals: Good Code Style"
      ]
    },
    {
      "cell_type": "code",
      "execution_count": null,
      "metadata": {
        "id": "aplM3naHJ5dB"
      },
      "outputs": [],
      "source": [
        "value = 16\n",
        "\n",
        "if value % 2 == 0:\n",
        "    out = \"even\"\n",
        "else:\n",
        "    out = \"odd\""
      ]
    },
    {
      "cell_type": "markdown",
      "metadata": {
        "id": "gbndPUvpJ5dB"
      },
      "source": [
        "### Conditionals: Code Style to Avoid"
      ]
    },
    {
      "cell_type": "code",
      "execution_count": null,
      "metadata": {
        "id": "FWMW7DtMJ5dB"
      },
      "outputs": [],
      "source": [
        "if value%2==0:out=\"even\" # avoid statement on same line as conditional\n",
        "                         # avoid blank line between if and else\n",
        "else:out=\"odd\"           # don't forget about spacing around operators!"
      ]
    },
    {
      "cell_type": "code",
      "execution_count": null,
      "metadata": {
        "scrolled": true,
        "id": "NL3z44JAJ5dB"
      },
      "outputs": [],
      "source": [
        "# Execute our function to check that\n",
        "# it is working according to our expectations\n",
        "even_odd(-1)"
      ]
    },
    {
      "cell_type": "markdown",
      "metadata": {
        "editable": true,
        "tags": [],
        "id": "NOx5MfKdJ5dB"
      },
      "source": [
        "## Activity: Conditionals II\n",
        "\n",
        "Complete the question in this Google Form ([https://forms.gle/sh82qAWNhtY4Y2X58](https://forms.gle/sh82qAWNhtY4Y2X58)) and then click submit.\n",
        "\n",
        "There are three questions, the third of which requires coding:\n",
        "\n",
        "> In a previous lecture, we wrote a function `convert_to_f`...but you'd probably want a function that could go in both directions.\n",
        "\n",
        "> Write a function `convert_temperature` that will convert a temperature C->F *and* F->C, returning the converted temperature.\n",
        "\n",
        "> Note: A temperature in Celsius will be multiplied by 9/5 and then 32 will be added to that quantity to convert to Fahrenheit. A temperature in Fahrenheit would have 32 subtracted and then that quantity multiplied by 5/9."
      ]
    },
    {
      "cell_type": "code",
      "execution_count": null,
      "metadata": {
        "editable": true,
        "tags": [],
        "id": "ShD00Tz9J5dB"
      },
      "outputs": [],
      "source": [
        "## YOUR CODE HERE"
      ]
    },
    {
      "cell_type": "code",
      "execution_count": null,
      "metadata": {
        "editable": true,
        "tags": [],
        "id": "z1yqF5yIJ5dB"
      },
      "outputs": [],
      "source": [
        "# TEST YOUR FUNCTION HERE"
      ]
    },
    {
      "cell_type": "markdown",
      "metadata": {
        "id": "2pUMeXJeJ5dC"
      },
      "source": [
        "## Activity: Conditionals III\n",
        "\n",
        "Commplete the question in this Google Form (https://forms.gle/vFbqVjqwHyE2BTk4A) and then click submit\n",
        "\n",
        "> Write a function called calculate_tip that uses the `bill_amount` and `tip_percent`, will return the tip and the total amount to pay\n",
        "\n",
        "> Now for the catch: we want it to calculate the tip correctly whether people enter a proportion (i.e. `.2` to represent 20%) or a percent (i.e. `20` to represent 20%)...we're going to assume that a value greater than zero but less than or equal to 1 is a proportion.\n",
        "\n",
        "> Test cases: `calculate_tip(100, .10)` and `calculate_tip(100, 10)` should both return the tip of 10.0 and a total of 110.0\n",
        "\n",
        "> Final note: two variables can be returned from a function if they are separated by a comma"
      ]
    },
    {
      "cell_type": "code",
      "execution_count": 29,
      "metadata": {
        "editable": true,
        "tags": [],
        "id": "J1vajCuiJ5dC"
      },
      "outputs": [],
      "source": [
        "## YOUR CODE HERE\n",
        "def calculate_tip(bill_amount, tip_percent):\n",
        "  if tip_percent <= 1:\n",
        "    tip_percent = tip_percent * 100\n",
        "  else:\n",
        "      tip_percent == \"10%\"\n",
        "  print(tip_percent)\n",
        "\n"
      ]
    },
    {
      "cell_type": "code",
      "execution_count": null,
      "metadata": {
        "editable": true,
        "scrolled": true,
        "tags": [],
        "id": "0HA9MOV_J5dC"
      },
      "outputs": [],
      "source": [
        "# TEST YOUR FUNCTION HERE"
      ]
    },
    {
      "cell_type": "code",
      "execution_count": null,
      "metadata": {
        "id": "oSv8BtlNJ5dC"
      },
      "outputs": [],
      "source": [
        "# NOTE TO SELF: Discuss positional vs keyword arguments on execution and default values"
      ]
    },
    {
      "cell_type": "markdown",
      "metadata": {
        "editable": true,
        "tags": [],
        "id": "on6Ve1stJ5dC"
      },
      "source": [
        "## Summary\n",
        "- `if`/`elif`/`else`\n",
        "- Code Style\n",
        "- Conditionals + Functions"
      ]
    },
    {
      "cell_type": "markdown",
      "metadata": {
        "id": "2oFMaSGxJ5dC"
      },
      "source": [
        "## Collections (sneak peak)\n",
        "\n",
        "- ability to store more than one piece of information in a single variable\n",
        "- lists, dictionaries, tuples"
      ]
    },
    {
      "cell_type": "code",
      "execution_count": null,
      "metadata": {
        "id": "euDq5HzuJ5dC"
      },
      "outputs": [],
      "source": [
        "# list\n",
        "my_list = [1, 2, 3, 4,]\n",
        "\n",
        "# tuple\n",
        "my_tuple = (1, 2, 3, 4)\n",
        "\n",
        "# dictionary\n",
        "my_dictionary = {'Shannon': 'mom',\n",
        "                 'Josh': 'dad',\n",
        "                 'Kayden': 'kid'}"
      ]
    },
    {
      "cell_type": "code",
      "execution_count": null,
      "metadata": {
        "id": "TE9DFRBmJ5dC"
      },
      "outputs": [],
      "source": []
    },
    {
      "cell_type": "markdown",
      "metadata": {
        "id": "UiBVoP8-J5dC"
      },
      "source": [
        "### Indexing\n",
        "\n",
        "- access a value or set of values from of a collection\n",
        "- uses square brackets `[]`"
      ]
    },
    {
      "cell_type": "code",
      "execution_count": null,
      "metadata": {
        "id": "oUlszuLXJ5dC"
      },
      "outputs": [],
      "source": [
        "my_list[0]"
      ]
    },
    {
      "cell_type": "markdown",
      "metadata": {
        "id": "M1za_5r9J5dC"
      },
      "source": [
        "### Lists are mutable; tuples are not"
      ]
    },
    {
      "cell_type": "code",
      "execution_count": null,
      "metadata": {
        "id": "WoGwhu-gJ5dC"
      },
      "outputs": [],
      "source": [
        "my_list[0] = 6\n",
        "my_list"
      ]
    },
    {
      "cell_type": "code",
      "execution_count": null,
      "metadata": {
        "id": "4E1d1FE0J5dC"
      },
      "outputs": [],
      "source": [
        "# THIS WILL ERROR\n",
        "my_tuple[0] = 6\n",
        "my_tuple"
      ]
    }
  ],
  "metadata": {
    "celltoolbar": "Slideshow",
    "kernelspec": {
      "display_name": "Python 3 (ipykernel)",
      "language": "python",
      "name": "python3"
    },
    "language_info": {
      "codemirror_mode": {
        "name": "ipython",
        "version": 3
      },
      "file_extension": ".py",
      "mimetype": "text/x-python",
      "name": "python",
      "nbconvert_exporter": "python",
      "pygments_lexer": "ipython3",
      "version": "3.11.8"
    },
    "rise": {
      "scroll": true
    },
    "colab": {
      "provenance": []
    }
  },
  "nbformat": 4,
  "nbformat_minor": 0
}